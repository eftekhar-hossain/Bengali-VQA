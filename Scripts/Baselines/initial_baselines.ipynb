{
  "cells": [
    {
      "cell_type": "markdown",
      "metadata": {},
      "source": [
        "This notebook contains implementation details of the four inital baselines model which were implementated using TensorFlow framework. The models are Vanilla VQA, TDA, MFB, and MFH"
      ]
    },
    {
      "cell_type": "markdown",
      "metadata": {
        "id": "mOZu9fe9cjW3"
      },
      "source": [
        "# Libraries"
      ]
    },
    {
      "cell_type": "code",
      "execution_count": null,
      "metadata": {
        "id": "o-iGQwPPq8OU"
      },
      "outputs": [],
      "source": [
        "import json\n",
        "import pandas as pd\n",
        "import numpy as np\n",
        "import pickle as pkl\n",
        "import matplotlib.pyplot as plt\n",
        "import warnings\n",
        "warnings.filterwarnings('ignore')\n",
        "import tensorflow as tf\n",
        "from tensorflow.keras.applications import ResNet50\n",
        "from tensorflow.keras.layers import Input, LSTM, Embedding, Dense, Flatten, concatenate\n",
        "from tensorflow.keras.models import Model\n",
        "from tensorflow.keras.preprocessing.text import Tokenizer\n",
        "from tensorflow.keras.preprocessing.sequence import pad_sequences\n",
        "from tensorflow.keras.applications.resnet50 import preprocess_input\n",
        "from tensorflow.keras.preprocessing.image import load_img, img_to_array\n",
        "from tensorflow.keras.utils import plot_model\n",
        "from tensorflow.keras.models import load_model\n",
        "from collections import Counter\n",
        "import matplotlib.font_manager as fm\n",
        "import matplotlib as mpl\n",
        "from matplotlib.legend import FontProperties\n",
        "import multidict as multidict\n",
        "import numpy as np\n",
        "from keras.utils import to_categorical\n",
        "import os\n",
        "import re\n",
        "from PIL import Image\n",
        "from os import path\n",
        "from wordcloud import WordCloud\n",
        "from sklearn.preprocessing import LabelEncoder\n",
        "from sklearn.metrics import accuracy_score,precision_score,recall_score,f1_score,roc_auc_score\n",
        "from tensorflow import keras\n",
        "from sklearn.model_selection import train_test_split\n",
        "from sklearn.metrics import classification_report\n",
        "import tensorflow as tf\n",
        "from tensorflow.keras.layers import Input, Conv2D, MaxPooling2D, Flatten, Dense, Embedding, LSTM, Bidirectional, concatenate\n",
        "from tensorflow.keras.applications import ResNet50\n",
        "from tensorflow.keras.models import Model\n",
        "from tensorflow.keras.optimizers import Adam,RMSprop\n",
        "from tensorflow.keras.layers import multiply\n",
        "from tensorflow.keras.layers import Concatenate, Dense, Input, LSTM, Embedding, Dropout, Activation,Flatten,Reshape,dot\n",
        "from tensorflow.keras.preprocessing import image\n",
        "from tensorflow.keras.applications import MobileNetV2\n",
        "from tensorflow.keras.applications import VGG19\n",
        "from tensorflow.keras.layers import GRU\n",
        "from tensorflow.keras.callbacks import Callback, EarlyStopping,ModelCheckpoint,TensorBoard\n",
        "from transformers import BertTokenizer\n",
        "from transformers import TFBertModel\n",
        "from tensorflow.keras.layers import Layer, MultiHeadAttention\n",
        "import cv2\n",
        "\n",
        "\n",
        "dataset_path = \"<path of the dataset>\"\n",
        "image_path = \"<path of the images>\"\n",
        "models_path = \"<saved models path>\""
      ]
    },
    {
      "cell_type": "code",
      "execution_count": null,
      "metadata": {
        "id": "e3Ocjn-6QVou"
      },
      "outputs": [],
      "source": [
        "# pip install tensorflow==2.11.0"
      ]
    },
    {
      "cell_type": "markdown",
      "metadata": {
        "id": "BdEqbZwriwrs"
      },
      "source": [
        "# Read Excel Files"
      ]
    },
    {
      "cell_type": "code",
      "execution_count": null,
      "metadata": {
        "colab": {
          "base_uri": "https://localhost:8080/"
        },
        "id": "B83BXMhqi0gu",
        "outputId": "2fe27569-db83-431b-c8a1-3015f5a4631a"
      },
      "outputs": [
        {
          "name": "stdout",
          "output_type": "stream",
          "text": [
            "(9557, 4)\n",
            "(720, 4)\n",
            "(774, 4)\n"
          ]
        }
      ],
      "source": [
        "train = pd.read_excel(dataset_path+\"train_bvqa.xlsx\")\n",
        "valid = pd.read_excel(dataset_path+\"valid_bvqa.xlsx\")\n",
        "test = pd.read_excel(dataset_path+\"test_bvqa.xlsx\")\n",
        "\n",
        "print(train.shape)\n",
        "print(valid.shape)\n",
        "print(test.shape)"
      ]
    },
    {
      "cell_type": "code",
      "execution_count": null,
      "metadata": {
        "colab": {
          "base_uri": "https://localhost:8080/"
        },
        "id": "oYLhonDaopkP",
        "outputId": "95344342-ea4f-4765-bba7-4c952d088fb4"
      },
      "outputs": [
        {
          "data": {
            "text/plain": [
              "140"
            ]
          },
          "execution_count": 8,
          "metadata": {},
          "output_type": "execute_result"
        }
      ],
      "source": [
        "len(test['class'].unique())"
      ]
    },
    {
      "cell_type": "markdown",
      "metadata": {
        "id": "wJDBWE1CpwCA"
      },
      "source": [
        "# Mapping"
      ]
    },
    {
      "cell_type": "code",
      "execution_count": null,
      "metadata": {
        "id": "fgQ3RDO_pyCE"
      },
      "outputs": [],
      "source": [
        "ans = test['answers'].tolist()\n",
        "label = test['class'].tolist()\n",
        "a = zip(ans,label)\n",
        "# Remove duplicates by converting to a set, then back to a list\n",
        "unique_data = list(set(a))\n",
        "# Sort the unique data based on the second item in each tuple\n",
        "sorted_unique_data = sorted(unique_data, key=lambda x: x[1])\n",
        "\n",
        "labels = list()\n",
        "for i in sorted_unique_data:\n",
        "  labels.append(i[0])\n",
        "\n",
        "def label_map(row):\n",
        "    return labels[row]"
      ]
    },
    {
      "cell_type": "code",
      "execution_count": null,
      "metadata": {
        "id": "3irosUD8pyCH"
      },
      "outputs": [],
      "source": [
        "yes_no = ['হ্যাঁ','না']\n",
        "count = ['কয়েকজন','দুইজন','একজন', 'দুই','অনেকগুলো','তিনজন','চারজন','তিন','অনেকজন','কয়েকটি','পাঁচ','৩',\n",
        " 'অনেক','পাঁচজন','একটি','চার','দুইটি','৪','ছয়জন','ছয়','২','এক','তিনটি','১','সাত','৫','শূন্য','সাতজন','দুইটা',\n",
        "         'দুজন','একটা','নয়','৬','আট']\n",
        "\n",
        "def category_map(row):\n",
        "    if row in yes_no:\n",
        "        return 'yes/no'\n",
        "    elif row in count:\n",
        "        return 'counting'\n",
        "    else:\n",
        "      return 'other'"
      ]
    },
    {
      "cell_type": "code",
      "execution_count": null,
      "metadata": {
        "id": "fHGKZxVnpyCH"
      },
      "outputs": [],
      "source": [
        "train['category'] = train['answers'].apply(category_map)\n",
        "valid['category'] = valid['answers'].apply(category_map)\n",
        "test['category'] = test['answers'].apply(category_map)"
      ]
    },
    {
      "cell_type": "code",
      "execution_count": null,
      "metadata": {
        "colab": {
          "base_uri": "https://localhost:8080/"
        },
        "id": "y-ABPSe7qD1D",
        "outputId": "84beed5f-1b91-455c-d03c-751a79b02972"
      },
      "outputs": [
        {
          "data": {
            "text/plain": [
              "category\n",
              "other       4701\n",
              "counting    3900\n",
              "yes/no       956\n",
              "Name: count, dtype: int64"
            ]
          },
          "execution_count": 16,
          "metadata": {},
          "output_type": "execute_result"
        }
      ],
      "source": [
        "train['category'].value_counts()"
      ]
    },
    {
      "cell_type": "code",
      "execution_count": null,
      "metadata": {
        "colab": {
          "base_uri": "https://localhost:8080/"
        },
        "id": "w-OMvAb5qIUv",
        "outputId": "12f49d6d-4e09-43cc-9bab-a4bbbf0fc15b"
      },
      "outputs": [
        {
          "data": {
            "text/plain": [
              "category\n",
              "other       355\n",
              "counting    293\n",
              "yes/no       72\n",
              "Name: count, dtype: int64"
            ]
          },
          "execution_count": 17,
          "metadata": {},
          "output_type": "execute_result"
        }
      ],
      "source": [
        "valid['category'].value_counts()"
      ]
    },
    {
      "cell_type": "code",
      "execution_count": null,
      "metadata": {
        "colab": {
          "base_uri": "https://localhost:8080/"
        },
        "id": "GJAg-4NBqLdR",
        "outputId": "d067571e-c9bb-43f5-8f1d-bae1e4878366"
      },
      "outputs": [
        {
          "data": {
            "text/plain": [
              "category\n",
              "other       384\n",
              "counting    313\n",
              "yes/no       77\n",
              "Name: count, dtype: int64"
            ]
          },
          "execution_count": 18,
          "metadata": {},
          "output_type": "execute_result"
        }
      ],
      "source": [
        "test['category'].value_counts()"
      ]
    },
    {
      "cell_type": "markdown",
      "metadata": {
        "id": "ogY10J3Bc4gs"
      },
      "source": [
        "# Make Pickle Files"
      ]
    },
    {
      "cell_type": "code",
      "execution_count": null,
      "metadata": {
        "colab": {
          "base_uri": "https://localhost:8080/"
        },
        "id": "8_zPgpJr0gXX",
        "outputId": "93bc52fd-94c2-489d-c128-2007b651d7b7"
      },
      "outputs": [],
      "source": [
        "# Path to your image directory (assuming you have image files corresponding to 'image_name' in the dataset)\n",
        "image_directory = image_path\n",
        "\n",
        "# Define the image size expected by ResNet50\n",
        "image_names = train['filename']\n",
        "image_size = (224, 224)\n",
        "images = []\n",
        "#Load and preprocess images\n",
        "for i, image_name in enumerate(image_names):\n",
        "     image_path = image_directory + image_name  # Create the full path to the image\n",
        "     img = load_img(image_path, target_size=image_size)  # Load and resize the image\n",
        "     print(i)\n",
        "     img = img_to_array(img)  # Convert to NumPy array\n",
        "     img = preprocess_input(img)  # Apply ResNet's preprocessing\n",
        "     images.append(img)\n",
        "# Convert the list of images to a NumPy array\n",
        "images = np.array(images)\n",
        "\n",
        "with open(dataset_path+'train_images_allclass.pkl','wb') as f:\n",
        "      pkl.dump(images, f)"
      ]
    },
    {
      "cell_type": "code",
      "execution_count": null,
      "metadata": {
        "colab": {
          "base_uri": "https://localhost:8080/"
        },
        "id": "ZmNZBS6Tj_bg",
        "outputId": "7738c2f3-51b4-4da5-e0e3-a82c000d0bd7"
      },
      "outputs": [],
      "source": [
        "# Define the image size expected by ResNet50\n",
        "image_names = valid['filename']\n",
        "image_size = (224, 224)\n",
        "images = []\n",
        "#Load and preprocess images\n",
        "for i, image_name in enumerate(image_names):\n",
        "     image_path = image_directory + image_name  # Create the full path to the image\n",
        "     img = load_img(image_path, target_size=image_size)  # Load and resize the image\n",
        "     print(i)\n",
        "     img = img_to_array(img)  # Convert to NumPy array\n",
        "     img = preprocess_input(img)  # Apply ResNet's preprocessing\n",
        "     images.append(img)\n",
        "# Convert the list of images to a NumPy array\n",
        "images = np.array(images)\n",
        "\n",
        "with open(dataset_path +'valid_images_allclass.pkl','wb') as f:\n",
        "      pkl.dump(images, f)"
      ]
    },
    {
      "cell_type": "code",
      "execution_count": null,
      "metadata": {
        "colab": {
          "base_uri": "https://localhost:8080/"
        },
        "id": "JP8Kq_7ykANO",
        "outputId": "5b29a146-e7e1-4a1e-c19a-1aeddd984ec1"
      },
      "outputs": [],
      "source": [
        "# Define the image size expected by ResNet50\n",
        "image_names = test['filename']\n",
        "image_size = (224, 224)\n",
        "images = []\n",
        "#Load and preprocess images\n",
        "for i, image_name in enumerate(image_names):\n",
        "     image_path = image_directory + image_name  # Create the full path to the image\n",
        "     img = load_img(image_path, target_size=image_size)  # Load and resize the image\n",
        "     print(i)\n",
        "     img = img_to_array(img)  # Convert to NumPy array\n",
        "     img = preprocess_input(img)  # Apply ResNet's preprocessing\n",
        "     images.append(img)\n",
        "# Convert the list of images to a NumPy array\n",
        "images = np.array(images)\n",
        "\n",
        "with open(dataset_path +'test_images_allclass.pkl','wb') as f:\n",
        "      pkl.dump(images, f)"
      ]
    },
    {
      "cell_type": "markdown",
      "metadata": {
        "id": "jXhyE987xXSb"
      },
      "source": [
        "# Load the Images"
      ]
    },
    {
      "cell_type": "code",
      "execution_count": null,
      "metadata": {
        "colab": {
          "base_uri": "https://localhost:8080/"
        },
        "id": "u6ugSz1puHt-",
        "outputId": "e2e583c8-3a33-4439-a564-7a45c9bf5478"
      },
      "outputs": [
        {
          "name": "stdout",
          "output_type": "stream",
          "text": [
            "(9557, 224, 224, 3)\n",
            "(720, 224, 224, 3)\n",
            "(774, 224, 224, 3)\n"
          ]
        }
      ],
      "source": [
        "# Load a Pickle file\n",
        "\n",
        "# train images\n",
        "with open(dataset_path +\"train_images_allclass.pkl\", 'rb') as file:\n",
        "    train_images = pkl.load(file)\n",
        "print(train_images.shape)\n",
        "\n",
        "# valid images\n",
        "with open(dataset_path +\"valid_images_allclass.pkl\", 'rb') as file:\n",
        "    valid_images = pkl.load(file)\n",
        "print(valid_images.shape)\n",
        "\n",
        "# test images\n",
        "with open(dataset_path +\"test_images_allclass.pkl\", 'rb') as file:\n",
        "    test_images = pkl.load(file)\n",
        "print(test_images.shape)\n"
      ]
    },
    {
      "cell_type": "markdown",
      "metadata": {
        "id": "Flol0kk9NI5q"
      },
      "source": [
        "# Encoding question"
      ]
    },
    {
      "cell_type": "code",
      "execution_count": null,
      "metadata": {
        "colab": {
          "base_uri": "https://localhost:8080/"
        },
        "id": "zF2K_1zMNOi6",
        "outputId": "1ab91b53-ee3b-4764-b235-18dbf6720184"
      },
      "outputs": [
        {
          "name": "stdout",
          "output_type": "stream",
          "text": [
            "Vocabulary Size: 1499\n",
            "Train:  (9557, 15)\n",
            "Valid:  (720, 15)\n",
            "Test:  (774, 15)\n"
          ]
        }
      ],
      "source": [
        "#Preprocess the text data (questions)\n",
        "questions_input = train['questions']\n",
        "basic_tokenizer = Tokenizer()\n",
        "basic_tokenizer.fit_on_texts(train['questions'])\n",
        "vocab_size = len(basic_tokenizer.word_index) + 1\n",
        "print(\"Vocabulary Size:\", vocab_size)\n",
        "\n",
        "# train questions\n",
        "train_questions = basic_tokenizer.texts_to_sequences(train['questions'])\n",
        "train_seq = pad_sequences(train_questions, maxlen=15,padding='post')\n",
        "# valid questions\n",
        "valid_questions = basic_tokenizer.texts_to_sequences(valid['questions'])\n",
        "valid_seq = pad_sequences(valid_questions, maxlen=15,padding='post')\n",
        "# test questions\n",
        "test_questions = basic_tokenizer.texts_to_sequences(test['questions'])\n",
        "test_seq = pad_sequences(test_questions, maxlen=15,padding='post')\n",
        "\n",
        "print(\"Train: \",train_seq.shape)\n",
        "print(\"Valid: \",valid_seq.shape)\n",
        "print(\"Test: \",test_seq.shape)\n"
      ]
    },
    {
      "cell_type": "code",
      "execution_count": null,
      "metadata": {
        "colab": {
          "base_uri": "https://localhost:8080/"
        },
        "id": "FiNNEr-NSZDt",
        "outputId": "69fed406-1cb1-47aa-b4fd-6bf1ca0dd522"
      },
      "outputs": [
        {
          "data": {
            "text/plain": [
              "array([117, 603,  12,   7,   3,   0,   0,   0,   0,   0,   0,   0,   0,\n",
              "         0,   0], dtype=int32)"
            ]
          },
          "execution_count": 71,
          "metadata": {},
          "output_type": "execute_result"
        }
      ],
      "source": [
        "train_questions[1]"
      ]
    },
    {
      "cell_type": "code",
      "execution_count": null,
      "metadata": {
        "colab": {
          "base_uri": "https://localhost:8080/"
        },
        "id": "rsmjIwReaKq6",
        "outputId": "f515ff1f-ceca-4f80-ff8e-671637a3ba73"
      },
      "outputs": [
        {
          "data": {
            "text/plain": [
              "(5841, 15)"
            ]
          },
          "execution_count": 101,
          "metadata": {},
          "output_type": "execute_result"
        }
      ],
      "source": [
        "train_questions.shape"
      ]
    },
    {
      "cell_type": "markdown",
      "metadata": {
        "id": "j7iLpWZapJZ1"
      },
      "source": [
        "# Callbacks"
      ]
    },
    {
      "cell_type": "code",
      "execution_count": null,
      "metadata": {
        "id": "PSjtPc8QpQXg"
      },
      "outputs": [],
      "source": [
        "# Saved the Best Model\n",
        "filepath = models_path+ '<model_name>.h5'\n",
        "\n",
        "callback = keras.callbacks.EarlyStopping(monitor='val_accuracy',patience=5)\n",
        "\n",
        "checkpoint = keras.callbacks.ModelCheckpoint(filepath, monitor='val_accuracy', verbose=2, save_best_only=True,\n",
        "                                             save_weights_only=True, mode='max')\n",
        "\n",
        "callback_list = [callback,checkpoint]\n",
        "num_of_classes = 140"
      ]
    },
    {
      "cell_type": "markdown",
      "metadata": {
        "id": "jbfjVHt7mwnS"
      },
      "source": [
        "# Evalution Metrics"
      ]
    },
    {
      "cell_type": "code",
      "execution_count": null,
      "metadata": {
        "id": "wVX6ITAvm27Q"
      },
      "outputs": [],
      "source": [
        "def print_metrices(true,pred):\n",
        "    print(\"Accuracy : \",round(accuracy_score(true,pred),4))\n",
        "    print(\"Precison : \",round(precision_score(true,pred, average = 'weighted'),4))\n",
        "    print(\"Recall : \",round(recall_score(true,pred,  average = 'weighted'),4))\n",
        "    print(\"F1 : \",round(f1_score(true,pred,  average = 'weighted'),4))"
      ]
    },
    {
      "cell_type": "markdown",
      "metadata": {
        "id": "kZqZ5djhW_p3"
      },
      "source": [
        "# MFB Layer (2017)"
      ]
    },
    {
      "cell_type": "code",
      "execution_count": null,
      "metadata": {
        "id": "IC_AhHN9XFJe"
      },
      "outputs": [],
      "source": [
        "from keras.layers import Layer, Concatenate, GlobalAveragePooling2D\n",
        "import tensorflow as tf\n",
        "class MFB(Layer):\n",
        "    def __init__(self, latent_dim, dropout_rate=0.5, pool_size=2, **kwargs):\n",
        "        self.latent_dim = latent_dim\n",
        "        self.dropout_rate = dropout_rate\n",
        "        self.pool_size = pool_size\n",
        "        super(MFB, self).__init__(**kwargs)\n",
        "\n",
        "    def build(self, input_shape):\n",
        "        self.Ui = self.add_weight(name='Ui', shape=(input_shape[0][-1], self.latent_dim),\n",
        "                                   initializer='glorot_uniform', trainable=True)\n",
        "        self.Vi = self.add_weight(name='Vi', shape=(input_shape[1][-1], self.latent_dim),\n",
        "                                   initializer='glorot_uniform', trainable=True)\n",
        "        super(MFB, self).build(input_shape)\n",
        "\n",
        "    def call(self, inputs):\n",
        "        x, y = inputs\n",
        "\n",
        "        # Factorized matrices\n",
        "        Ui = self.Ui\n",
        "        Vi = self.Vi\n",
        "\n",
        "        # Element-wise multiplication\n",
        "        mfb = tf.matmul(x, Ui) * tf.matmul(y, Vi)\n",
        "\n",
        "        # Sum pooling\n",
        "        mfb = tf.nn.avg_pool1d(tf.expand_dims(mfb, axis=2), ksize=self.pool_size, strides=self.pool_size, padding='VALID')\n",
        "        mfb = tf.squeeze(mfb, axis=2)\n",
        "\n",
        "        # Dropout layer\n",
        "        mfb = Dropout(self.dropout_rate)(mfb)\n",
        "\n",
        "        # Power normalization\n",
        "        mfb = tf.sign(mfb) * tf.sqrt(tf.abs(mfb) + 1e-6)\n",
        "\n",
        "        # L2 normalization\n",
        "        mfb = tf.nn.l2_normalize(mfb, axis=-1)\n",
        "\n",
        "        return mfb\n",
        "\n",
        "    def compute_output_shape(self, input_shape):\n",
        "        return (input_shape[0][0], self.latent_dim)"
      ]
    },
    {
      "cell_type": "code",
      "execution_count": null,
      "metadata": {
        "id": "yaTo_B8OXMuE"
      },
      "outputs": [],
      "source": [
        "latent_dim = 128  # Define latent dimensionality\n",
        "dropout_rate = 0.2  # Define dropout rate\n",
        "pool_size = 2  # Define pool size for sum pooling\n",
        "\n",
        "\n",
        "#ResNet101\n",
        "base_model = tf.keras.applications.ResNet152(weights='imagenet', include_top=False,input_shape=(224, 224, 3))\n",
        "base_model.trainable = False\n",
        "y = base_model.output\n",
        "conv_layer = base_model.output\n",
        "pool = GlobalAveragePooling2D()(conv_layer)\n",
        "visual_features = pool\n",
        "# print(visual_features.shape)\n",
        "#GRU\n",
        "sequence_input = Input(shape=(15,), dtype=\"int32\")\n",
        "embedded_sequences = Embedding(10000, 300)(sequence_input)\n",
        "# Getting our GRU outputs\n",
        "lstm_layer1 = LSTM(1024,return_sequences=True)(embedded_sequences)\n",
        "last_output1 = lstm_layer1[:, -1, :]\n",
        "\n",
        "# Getting our GRU outputs\n",
        "lstm_layer2 = LSTM(1024)(lstm_layer1)\n",
        "textual_features = Concatenate(axis=-1)([last_output1, lstm_layer2])\n",
        "# print(textual_features.shape)\n",
        "# MFB layer\n",
        "mfb_output = MFB(latent_dim, dropout_rate, pool_size)([visual_features, textual_features])\n",
        "\n",
        "output = Dense(num_of_classes, activation=\"softmax\")(mfb_output)\n",
        "\n",
        "# Create model\n",
        "model = Model(inputs=[base_model.input, sequence_input], outputs=output )\n"
      ]
    },
    {
      "cell_type": "code",
      "execution_count": null,
      "metadata": {
        "id": "X3a16wLVYVUe"
      },
      "outputs": [],
      "source": [
        "# Compile the model\n",
        "model.compile(loss='sparse_categorical_crossentropy', optimizer=Adam(), metrics=['accuracy'])"
      ]
    },
    {
      "cell_type": "code",
      "execution_count": null,
      "metadata": {
        "colab": {
          "base_uri": "https://localhost:8080/"
        },
        "id": "dTYXNOBUXc8S",
        "outputId": "7af64197-9919-4a14-c815-3a269f03d1f0"
      },
      "outputs": [],
      "source": [
        "# Train the model\n",
        "history = model.fit([train_images, train_seq], train['class'],\n",
        "          epochs=25,batch_size=64,\n",
        "          validation_data=([valid_images, valid_seq], valid['class']),callbacks=callback_list)"
      ]
    },
    {
      "cell_type": "code",
      "execution_count": null,
      "metadata": {
        "colab": {
          "base_uri": "https://localhost:8080/"
        },
        "id": "CL28QDjSo5SV",
        "outputId": "d923d02f-e721-4c12-804c-0434c2fcbf70"
      },
      "outputs": [
        {
          "name": "stdout",
          "output_type": "stream",
          "text": [
            "25/25 [==============================] - 69s 3s/step - loss: 1.7743 - accuracy: 0.5891\n",
            "Test Loss: 1.774, Test Accuracy: 0.5891\n"
          ]
        }
      ],
      "source": [
        "# Evaluate the model on the test set\n",
        "model.load_weights(models_path+'mfb_allclass.h5')\n",
        "test_loss, test_accuracy = model.evaluate([test_images, test_seq], test['class'])\n",
        "print(f'Test Loss: {round(test_loss,3)}, Test Accuracy: {round(test_accuracy,4)}')"
      ]
    },
    {
      "cell_type": "code",
      "execution_count": null,
      "metadata": {
        "colab": {
          "base_uri": "https://localhost:8080/"
        },
        "id": "rbYleMsjrAtU",
        "outputId": "4c9cf995-40c2-48b2-a166-3d176fa97613"
      },
      "outputs": [
        {
          "name": "stdout",
          "output_type": "stream",
          "text": [
            "25/25 [==============================] - 64s 3s/step\n",
            "Accuracy :  0.5891\n",
            "Precison :  0.5183\n",
            "Recall :  0.5891\n",
            "F1 :  0.5421\n"
          ]
        }
      ],
      "source": [
        "# prediction\n",
        "y_pred=model.predict([test_images, test_seq])\n",
        "y_pred= np.argmax(y_pred, axis=-1)\n",
        "# print matrices\n",
        "print_metrices(test['class'],y_pred)"
      ]
    },
    {
      "cell_type": "code",
      "execution_count": null,
      "metadata": {
        "id": "jntSFdSnwhpH"
      },
      "outputs": [],
      "source": [
        "test['mfb'] = y_pred\n",
        "test['mfb'] = test['mfb'].apply(label_map)\n",
        "test"
      ]
    },
    {
      "cell_type": "code",
      "execution_count": null,
      "metadata": {
        "id": "z74kYlPzwhpH"
      },
      "outputs": [],
      "source": [
        "yes_no = test[test['category']=='yes/no']\n",
        "counting = test[test['category']=='counting']\n",
        "other = test[test['category']=='other']"
      ]
    },
    {
      "cell_type": "code",
      "execution_count": null,
      "metadata": {
        "colab": {
          "base_uri": "https://localhost:8080/"
        },
        "id": "oO_45LT0whpH",
        "outputId": "6e8c905a-d163-4e24-df7d-7ddcc40d4294"
      },
      "outputs": [
        {
          "name": "stdout",
          "output_type": "stream",
          "text": [
            "Accuracy :  0.4888\n",
            "Precison :  0.4496\n",
            "Recall :  0.4888\n",
            "F1 :  0.4591\n"
          ]
        }
      ],
      "source": [
        "# Generate the classification report\n",
        "print_metrices(counting['answers'], counting['mfb'])"
      ]
    },
    {
      "cell_type": "markdown",
      "metadata": {
        "id": "UvXCD6EQgGoh"
      },
      "source": [
        "# MFH Layer (2019)"
      ]
    },
    {
      "cell_type": "code",
      "execution_count": null,
      "metadata": {
        "id": "moB2rdi6gK8A"
      },
      "outputs": [],
      "source": [
        "from keras.layers import Layer, Concatenate, GlobalAveragePooling2D\n",
        "import tensorflow as tf\n",
        "\n",
        "class MFH(Layer):\n",
        "    def __init__(self, latent_dim, num_blocks=1, dropout_rate=0.5, pool_size=2, **kwargs):\n",
        "        self.latent_dim = latent_dim\n",
        "        self.num_blocks = num_blocks\n",
        "        self.dropout_rate = dropout_rate\n",
        "        self.pool_size = pool_size\n",
        "        self.mfb_blocks = [MFB(latent_dim, dropout_rate, pool_size) for _ in range(num_blocks)]\n",
        "        super(MFH, self).__init__(**kwargs)\n",
        "\n",
        "    def call(self, inputs):\n",
        "        mfb_outputs = [mfb_block(inputs) for mfb_block in self.mfb_blocks]\n",
        "        concatenated_output = Concatenate(axis=-1)(mfb_outputs)\n",
        "        return concatenated_output\n",
        "\n",
        "    def compute_output_shape(self, input_shape):\n",
        "        return (input_shape[0][0], self.latent_dim * self.num_blocks)"
      ]
    },
    {
      "cell_type": "code",
      "execution_count": null,
      "metadata": {
        "id": "5CyRn29pgQZ7"
      },
      "outputs": [],
      "source": [
        "latent_dim = 128  # Define latent dimensionality\n",
        "num_blocks = 3  # Define number of MFB blocks\n",
        "dropout_rate = 0.1  # Define dropout rate\n",
        "pool_size = 2  # Define pool size for sum pooling\n",
        "\n",
        "#ResNet101\n",
        "base_model = tf.keras.applications.ResNet152(weights='imagenet', include_top=False,input_shape=(224, 224, 3))\n",
        "base_model.trainable = False\n",
        "y = base_model.output\n",
        "conv_layer = base_model.output\n",
        "pool = GlobalAveragePooling2D()(conv_layer)\n",
        "visual_features = pool\n",
        "\n",
        "#GRU\n",
        "sequence_input = Input(shape=(15,), dtype=\"int32\")\n",
        "embedded_sequences = Embedding(10000, 300)(sequence_input)\n",
        "# Getting our GRU outputs\n",
        "lstm_layer1 = LSTM(1024,return_sequences=True)(embedded_sequences)\n",
        "last_output1 = lstm_layer1[:, -1, :]\n",
        "\n",
        "# Getting our GRU outputs\n",
        "lstm_layer2 = LSTM(1024)(lstm_layer1)\n",
        "textual_features = Concatenate(axis=-1)([last_output1, lstm_layer2])\n",
        "# print(textual_features.shape)\n",
        "# MFH layer\n",
        "mfh_output = MFH(latent_dim, num_blocks, dropout_rate, pool_size)([visual_features, textual_features])\n",
        "\n",
        "output = Dense(num_of_classes, activation=\"softmax\")(mfh_output)\n",
        "\n",
        "# Create model\n",
        "model_mfh = Model(inputs=[base_model.input, sequence_input], outputs=output )"
      ]
    },
    {
      "cell_type": "code",
      "execution_count": null,
      "metadata": {
        "id": "oHeA7Xtag0yS"
      },
      "outputs": [],
      "source": [
        "# Compile the model\n",
        "model_mfh.compile(loss='sparse_categorical_crossentropy', optimizer=Adam(), metrics=['accuracy'])"
      ]
    },
    {
      "cell_type": "code",
      "execution_count": null,
      "metadata": {
        "colab": {
          "base_uri": "https://localhost:8080/"
        },
        "id": "O4wqUcO9g-5z",
        "outputId": "404792d3-494f-4977-b9f7-2a994db41815"
      },
      "outputs": [],
      "source": [
        "# Train the model\n",
        "keras.backend.clear_session()\n",
        "model_mfh.fit([train_images, train_seq], train['class'],\n",
        "              epochs=25, batch_size=64,\n",
        "              validation_data=([valid_images, valid_seq], valid['class']),\n",
        "              callbacks=callback_list)"
      ]
    },
    {
      "cell_type": "code",
      "execution_count": null,
      "metadata": {
        "colab": {
          "base_uri": "https://localhost:8080/"
        },
        "id": "1NJhf6pBto5l",
        "outputId": "3c34b808-4f0c-4e65-e8cd-4836b887df76"
      },
      "outputs": [
        {
          "name": "stdout",
          "output_type": "stream",
          "text": [
            "25/25 [==============================] - 69s 3s/step - loss: 1.6655 - accuracy: 0.5995\n",
            "Test Loss: 1.665, Test Accuracy: 0.5995\n"
          ]
        }
      ],
      "source": [
        "# Evaluate the model on the test set\n",
        "model_mfh.load_weights(models_path + 'mfh_allclass.h5')\n",
        "test_loss, test_accuracy = model_mfh.evaluate([test_images, test_seq], test['class'])\n",
        "print(f'Test Loss: {round(test_loss,3)}, Test Accuracy: {round(test_accuracy,4)}')"
      ]
    },
    {
      "cell_type": "code",
      "execution_count": null,
      "metadata": {
        "colab": {
          "base_uri": "https://localhost:8080/"
        },
        "id": "dK6NclaStuYk",
        "outputId": "21b75dae-486a-4316-e63d-bdd7e64a67b5"
      },
      "outputs": [
        {
          "name": "stdout",
          "output_type": "stream",
          "text": [
            "25/25 [==============================] - 69s 3s/step\n",
            "Accuracy :  0.5995\n",
            "Precison :  0.5612\n",
            "Recall :  0.5995\n",
            "F1 :  0.5695\n"
          ]
        }
      ],
      "source": [
        "# prediction\n",
        "y_pred=model_mfh.predict([test_images, test_seq])\n",
        "y_pred= np.argmax(y_pred, axis=-1)\n",
        "## print matrices\n",
        "print_metrices(test['class'],y_pred)"
      ]
    },
    {
      "cell_type": "code",
      "execution_count": null,
      "metadata": {
        "id": "kY6TVRWzvzQk"
      },
      "outputs": [],
      "source": [
        "test['mfh'] = y_pred\n",
        "test['mfh'] = test['mfh'].apply(label_map)\n",
        "test"
      ]
    },
    {
      "cell_type": "code",
      "execution_count": null,
      "metadata": {
        "id": "6sAZGDbwvzQk"
      },
      "outputs": [],
      "source": [
        "yes_no = test[test['category']=='yes/no']\n",
        "counting = test[test['category']=='counting']\n",
        "other = test[test['category']=='other']"
      ]
    },
    {
      "cell_type": "code",
      "execution_count": null,
      "metadata": {
        "colab": {
          "base_uri": "https://localhost:8080/"
        },
        "id": "FKPbje8nvzQl",
        "outputId": "8a2ef6fe-17fe-465b-805d-6e34aa998bd8"
      },
      "outputs": [
        {
          "name": "stdout",
          "output_type": "stream",
          "text": [
            "Accuracy :  0.8312\n",
            "Precison :  0.9581\n",
            "Recall :  0.8312\n",
            "F1 :  0.8703\n"
          ]
        }
      ],
      "source": [
        "# Generate the classification report\n",
        "print_metrices(yes_no['answers'], yes_no['mfh'])"
      ]
    },
    {
      "cell_type": "markdown",
      "metadata": {
        "id": "90LfFwtZRdAU"
      },
      "source": [
        "# Vanilla VQA"
      ]
    },
    {
      "cell_type": "code",
      "execution_count": null,
      "metadata": {
        "colab": {
          "base_uri": "https://localhost:8080/"
        },
        "id": "mjIx7IZvYgel",
        "outputId": "2ace50b6-8df4-4d76-ba1d-6c7077cfb9aa"
      },
      "outputs": [
        {
          "name": "stderr",
          "output_type": "stream",
          "text": [
            "WARNING:tensorflow:`input_shape` is undefined or non-square, or `rows` is not in [96, 128, 160, 192, 224]. Weights for input shape (224, 224) will be loaded as the default.\n"
          ]
        },
        {
          "name": "stdout",
          "output_type": "stream",
          "text": [
            "Downloading data from https://storage.googleapis.com/tensorflow/keras-applications/mobilenet_v2/mobilenet_v2_weights_tf_dim_ordering_tf_kernels_1.0_224_no_top.h5\n",
            "9406464/9406464 [==============================] - 0s 0us/step\n"
          ]
        }
      ],
      "source": [
        "# Clear Keras backend session\n",
        "tf.keras.backend.clear_session()\n",
        "# Build the VQA model\n",
        "image_input_model_1 = Input(shape=(224, 224, 3))\n",
        "mobilenet_model = MobileNetV2(include_top=False, weights='imagenet', input_tensor=image_input_model_1)\n",
        "# Freeze the MobileNetV2 layers\n",
        "for layer in mobilenet_model.layers:\n",
        "     layer.trainable = False\n",
        "# Process the image with ResNet\n",
        "image_features_model_1 = tf.keras.layers.GlobalAveragePooling2D()(mobilenet_model.output)\n",
        "cnn_layer_output = Dense(1024, activation='relu')(image_features_model_1)\n",
        "cnn_model_1 = Model(inputs=image_input_model_1, outputs=cnn_layer_output)\n",
        "\n",
        "\n",
        "# Process the question with an LSTM\n",
        "question_input_model_1 = Input(shape=(15,))\n",
        "question_embedding_model_1 = Embedding(input_dim=vocab_size, output_dim=300, input_length=10)(question_input_model_1)\n",
        "lstm_features_1 = Bidirectional(LSTM(256, return_sequences=True))(question_embedding_model_1)\n",
        "dropout_1 = tf.keras.layers.Dropout(0.5)(lstm_features_1)\n",
        "lstm_features_2 = Bidirectional(LSTM(256,return_sequences=True))(dropout_1 )\n",
        "dropout_2 = tf.keras.layers.Dropout(0.5)(lstm_features_2)\n",
        "lstm_features_3 = Bidirectional(LSTM(256))(dropout_2)\n",
        "\n",
        "#f1 = Flatten(name='flatten_1')(dropout2)\n",
        "dense_layer_model_1 = Dense(1024, activation='relu')(lstm_features_3)\n",
        "lstm_model_1 = Model(inputs=question_input_model_1, outputs=dense_layer_model_1)\n",
        "\n",
        "# Combine image and text features\n",
        "merged = concatenate([cnn_model_1.output, lstm_model_1.output], name='Fusion')\n",
        "dropout_3 = tf.keras.layers.Dropout(0.5)(merged)\n",
        "output = Dense(num_of_classes, activation='softmax')(dropout_3)\n",
        "\n",
        "model = Model(inputs=[cnn_model_1.input, lstm_model_1.input], outputs=output)\n",
        "\n",
        "# Compile the model\n",
        "model.compile(loss='sparse_categorical_crossentropy', optimizer=Adam(learning_rate=0.001), metrics=['accuracy'])\n"
      ]
    },
    {
      "cell_type": "code",
      "execution_count": null,
      "metadata": {
        "colab": {
          "base_uri": "https://localhost:8080/"
        },
        "id": "-FBVIzjh7b_n",
        "outputId": "52d350e8-ceab-439e-f9d5-15b27fdfda51"
      },
      "outputs": [],
      "source": [
        "# Train the model\n",
        "keras.backend.clear_session()\n",
        "history = model.fit([train_images, train_seq], train['class'],\n",
        "          epochs=9,batch_size=64,\n",
        "          validation_data=([valid_images, valid_seq], valid['class']),callbacks=callback_list)"
      ]
    },
    {
      "cell_type": "code",
      "execution_count": null,
      "metadata": {
        "colab": {
          "base_uri": "https://localhost:8080/"
        },
        "id": "Q_sYAV-PNcnF",
        "outputId": "afd1b670-f581-469a-8336-f1d2b5d04910"
      },
      "outputs": [
        {
          "name": "stdout",
          "output_type": "stream",
          "text": [
            "25/25 [==============================] - 9s 290ms/step - loss: 1.7404 - accuracy: 0.6021\n",
            "Test Loss: 1.74, Test Accuracy: 0.6021\n"
          ]
        }
      ],
      "source": [
        "# Evaluate the model on the test set\n",
        "model.load_weights(models_path+'vanilla_allclass.h5')\n",
        "test_loss, test_accuracy = model.evaluate([test_images, test_seq], test['class'])\n",
        "print(f'Test Loss: {round(test_loss,3)}, Test Accuracy: {round(test_accuracy,4)}')"
      ]
    },
    {
      "cell_type": "code",
      "execution_count": null,
      "metadata": {
        "colab": {
          "base_uri": "https://localhost:8080/"
        },
        "id": "9RTwGTBflmG3",
        "outputId": "9d1259eb-ce8f-4d74-a523-e6b29fb48c13"
      },
      "outputs": [
        {
          "name": "stdout",
          "output_type": "stream",
          "text": [
            "25/25 [==============================] - 7s 247ms/step\n",
            "Accuracy :  0.6021\n",
            "Precison :  0.6111\n",
            "Recall :  0.6021\n",
            "F1 :  0.5783\n"
          ]
        }
      ],
      "source": [
        "# prediction\n",
        "y_pred=model.predict([test_images, test_seq])\n",
        "y_pred= np.argmax(y_pred, axis=-1)\n",
        "## print matrices\n",
        "print_metrices(test['class'],y_pred)"
      ]
    },
    {
      "cell_type": "code",
      "execution_count": null,
      "metadata": {
        "id": "tupTXSy8xLkE"
      },
      "outputs": [],
      "source": [
        "test['vanilla'] = y_pred\n",
        "test['vanilla'] = test['vanilla'].apply(label_map)\n",
        "test"
      ]
    },
    {
      "cell_type": "code",
      "execution_count": null,
      "metadata": {
        "id": "cwpAs92DxLkE"
      },
      "outputs": [],
      "source": [
        "yes_no = test[test['category']=='yes/no']\n",
        "counting = test[test['category']=='counting']\n",
        "other = test[test['category']=='other']"
      ]
    },
    {
      "cell_type": "code",
      "execution_count": null,
      "metadata": {
        "colab": {
          "base_uri": "https://localhost:8080/"
        },
        "id": "ptwWJ2GQxLkE",
        "outputId": "6dc6d917-fc1e-47a1-ef81-71d2e3fd2353"
      },
      "outputs": [
        {
          "name": "stdout",
          "output_type": "stream",
          "text": [
            "Accuracy :  0.5016\n",
            "Precison :  0.574\n",
            "Recall :  0.5016\n",
            "F1 :  0.5005\n"
          ]
        }
      ],
      "source": [
        "# Generate the classification report\n",
        "print_metrices(counting['answers'], counting['vanilla'])"
      ]
    },
    {
      "cell_type": "markdown",
      "metadata": {
        "id": "4jwkJT9xweMV"
      },
      "source": [
        "# Top Down Attention (2022)"
      ]
    },
    {
      "cell_type": "code",
      "execution_count": null,
      "metadata": {
        "id": "2NuAZrHuzfhs"
      },
      "outputs": [],
      "source": [
        "#first attention\n",
        "class First_Attention(tf.keras.Model):\n",
        "      def __init__(self, units):\n",
        "          super(First_Attention, self).__init__()\n",
        "          self.W1 = tf.keras.layers.Dense(units)\n",
        "          self.W2 = tf.keras.layers.Dense(units)\n",
        "          self.V = tf.keras.layers.Dense(1)\n",
        "\n",
        "      def call(self, features, hidden):\n",
        "          # hidden shape == (batch_size, hidden size)\n",
        "          # hidden_with_time_axis shape == (batch_size, 1, hidden size)\n",
        "          # we are doing this to perform addition to calculate the score\n",
        "          hidden_with_time_axis = tf.expand_dims(hidden, 1)\n",
        "\n",
        "          # score shape == (batch_size, max_length, 1)\n",
        "          # we get 1 at the last axis because we are applying score to self.V\n",
        "          # the shape of the tensor before applying self.V is (batch_size, max_length, units)\n",
        "          score = tf.nn.tanh(\n",
        "              self.W1(features) + self.W2(hidden_with_time_axis))\n",
        "          # attention_weights shape == (batch_size, max_length, 1)\n",
        "          attention_weights = tf.nn.softmax(self.V(score), axis=1)\n",
        "\n",
        "          # context_vector shape after sum == (batch_size, hidden_size)\n",
        "          context_vector = (attention_weights * hidden_with_time_axis)+ features\n",
        "          context_vector = tf.reduce_sum(context_vector, axis=1)\n",
        "          return context_vector, attention_weights\n"
      ]
    },
    {
      "cell_type": "code",
      "execution_count": null,
      "metadata": {
        "id": "wlTZozK54gUa"
      },
      "outputs": [],
      "source": [
        "#Sceond attention\n",
        "class Second_Attention(tf.keras.Model):\n",
        "      def __init__(self, units):\n",
        "          super(Second_Attention, self).__init__()\n",
        "          self.W1 = tf.keras.layers.Dense(units)\n",
        "          self.W2 = tf.keras.layers.Dense(units)\n",
        "          self.V = tf.keras.layers.Dense(1)\n",
        "\n",
        "      def call(self, features, hidden):\n",
        "          # hidden shape == (batch_size, hidden size)\n",
        "          # hidden_with_time_axis shape == (batch_size, 1, hidden size)\n",
        "          # we are doing this to perform addition to calculate the score\n",
        "          hidden_with_time_axis = tf.expand_dims(hidden, 1)\n",
        "          feature_with_time_axis = tf.expand_dims(features, 1)\n",
        "\n",
        "          # score shape == (batch_size, max_length, 1)\n",
        "          # we get 1 at the last axis because we are applying score to self.V\n",
        "          # the shape of the tensor before applying self.V is (batch_size, max_length, units)\n",
        "          score = tf.nn.tanh(\n",
        "              self.W1(feature_with_time_axis) + self.W2(hidden_with_time_axis))\n",
        "          # attention_weights shape == (batch_size, max_length, 1)\n",
        "          attention_weights = tf.nn.softmax(self.V(score), axis=1)\n",
        "\n",
        "          # context_vector shape after sum == (batch_size, hidden_size)\n",
        "          context_vector = (attention_weights * hidden_with_time_axis)+ feature_with_time_axis\n",
        "          context_vector = tf.reduce_sum(context_vector, axis=1)\n",
        "          return context_vector, attention_weights\n"
      ]
    },
    {
      "cell_type": "markdown",
      "metadata": {
        "id": "A_Hv1GqHyhZP"
      },
      "source": [
        "**Define a model with attention (Vgg19+BiGRU+2 layers attention)**"
      ]
    },
    {
      "cell_type": "code",
      "execution_count": null,
      "metadata": {
        "colab": {
          "base_uri": "https://localhost:8080/"
        },
        "id": "8m86vP8mwiqQ",
        "outputId": "eddee3e2-9e9e-46f7-b3a4-714e8f37dd09"
      },
      "outputs": [
        {
          "name": "stdout",
          "output_type": "stream",
          "text": [
            "Downloading data from https://storage.googleapis.com/tensorflow/keras-applications/vgg19/vgg19_weights_tf_dim_ordering_tf_kernels_notop.h5\n",
            "80134624/80134624 [==============================] - 0s 0us/step\n"
          ]
        }
      ],
      "source": [
        "# Clear Keras backend session\n",
        "tf.keras.backend.clear_session()\n",
        "# Build the VQA model with VGG19\n",
        "image_input_model_2 = Input(shape=(224, 224, 3))\n",
        "vgg19_model = VGG19(weights='imagenet', include_top=False, input_tensor=image_input_model_2)\n",
        "# Freeze the VGG19 layers\n",
        "for layer in vgg19_model.layers:\n",
        "    layer.trainable = False\n",
        "\n",
        "# Process the image with VGG19\n",
        "image_features_model_2 = Flatten()(vgg19_model.output)\n",
        "vgg_output = Dense(100, activation='relu')(image_features_model_2 )\n",
        "\n",
        "\n",
        "# Process the question with a GRU\n",
        "question_input_model_2 = Input(shape=(15,))\n",
        "question_embedding_model_2 = Embedding(input_dim=vocab_size, output_dim=300, input_length=10)(question_input_model_2)\n",
        "gru_features = Bidirectional(GRU(50, return_sequences=True))(question_embedding_model_2)\n",
        "# Add the VGG19 features and GRU\n",
        "# First Attention\n",
        "context_vector_1, attention_weights_1 = First_Attention(10)(gru_features,vgg_output)\n",
        "# Second Attention\n",
        "context_vector_2, attention_weights_2 = Second_Attention(10)(context_vector_1,vgg_output)\n",
        "# Add the attention features\n",
        "dense_layer_model_2 = Dense(64, activation='relu')(context_vector_2)\n",
        "output_model_2 = Dense(num_of_classes, activation='softmax')(dense_layer_model_2 )\n",
        "# Model\n",
        "model_attention_2 = Model(inputs=[vgg19_model.input, question_input_model_2], outputs=output_model_2)\n",
        "\n",
        "#Compile the model\n",
        "model_attention_2.compile(loss='sparse_categorical_crossentropy', optimizer=RMSprop(learning_rate=0.001), metrics=['accuracy'])"
      ]
    },
    {
      "cell_type": "code",
      "execution_count": null,
      "metadata": {
        "colab": {
          "base_uri": "https://localhost:8080/"
        },
        "id": "7wWtDdeF7PyM",
        "outputId": "c650ddab-44f4-4640-c5b3-6f61b95355dc"
      },
      "outputs": [],
      "source": [
        "# Train the model\n",
        "keras.backend.clear_session()\n",
        "model_attention_2.fit([train_images, train_seq], train['class'],\n",
        "          epochs=30,batch_size=64,\n",
        "          validation_data=([valid_images, valid_seq], valid['class']),callbacks=callback_list)"
      ]
    },
    {
      "cell_type": "code",
      "execution_count": null,
      "metadata": {
        "colab": {
          "base_uri": "https://localhost:8080/"
        },
        "id": "_BLxrg0j-UR5",
        "outputId": "2290f027-d9ea-4c1c-9aa5-b2bd815d5437"
      },
      "outputs": [
        {
          "name": "stdout",
          "output_type": "stream",
          "text": [
            "25/25 [==============================] - 96s 4s/step - loss: 2.5368 - accuracy: 0.4974\n",
            "Test Loss: 2.537, Test Accuracy: 0.4974\n"
          ]
        }
      ],
      "source": [
        "# Evaluate the model on the test set\n",
        "model_attention_2.load_weights(models_path+'tda_allclass.h5')\n",
        "test_loss, test_accuracy = model_attention_2.evaluate([test_images, test_seq], test['class'])\n",
        "print(f'Test Loss: {round(test_loss,3)}, Test Accuracy: {round(test_accuracy,4)}')"
      ]
    },
    {
      "cell_type": "code",
      "execution_count": null,
      "metadata": {
        "colab": {
          "base_uri": "https://localhost:8080/"
        },
        "id": "1mk74ufG-UR6",
        "outputId": "48284097-1c43-48a2-a7ec-f1d426a4a1ed"
      },
      "outputs": [
        {
          "name": "stdout",
          "output_type": "stream",
          "text": [
            "25/25 [==============================] - 91s 4s/step\n",
            "Accuracy :  0.4974\n",
            "Precison :  0.4756\n",
            "Recall :  0.4974\n",
            "F1 :  0.4706\n"
          ]
        }
      ],
      "source": [
        "# prediction\n",
        "y_pred=model_attention_2.predict([test_images, test_seq])\n",
        "y_pred= np.argmax(y_pred, axis=-1)\n",
        "## print matrices\n",
        "print_metrices(test['class'],y_pred)"
      ]
    },
    {
      "cell_type": "code",
      "execution_count": null,
      "metadata": {
        "id": "MZLNUfDgyplE"
      },
      "outputs": [],
      "source": [
        "test['tda'] = y_pred\n",
        "test['tda'] = test['tda'].apply(label_map)\n",
        "test"
      ]
    },
    {
      "cell_type": "code",
      "execution_count": null,
      "metadata": {
        "id": "vjU3mRFbyplE"
      },
      "outputs": [],
      "source": [
        "yes_no = test[test['category']=='yes/no']\n",
        "counting = test[test['category']=='counting']\n",
        "other = test[test['category']=='other']"
      ]
    },
    {
      "cell_type": "code",
      "execution_count": null,
      "metadata": {
        "colab": {
          "base_uri": "https://localhost:8080/"
        },
        "id": "pxQxwZXiyplF",
        "outputId": "1a83411b-a150-4951-f818-4f6c64d29a6c"
      },
      "outputs": [
        {
          "name": "stdout",
          "output_type": "stream",
          "text": [
            "Accuracy :  0.5911\n",
            "Precison :  0.5932\n",
            "Recall :  0.5911\n",
            "F1 :  0.5777\n"
          ]
        }
      ],
      "source": [
        "# Generate the classification report\n",
        "print_metrices(other['answers'], other['tda'])"
      ]
    }
  ],
  "metadata": {
    "accelerator": "GPU",
    "colab": {
      "collapsed_sections": [
        "xcRF8rdMAiOI",
        "KMbmZSRTdU5X",
        "ggOKYxu6elvH",
        "ogY10J3Bc4gs",
        "3kMMAYi5Nkvs"
      ],
      "gpuType": "T4",
      "machine_shape": "hm",
      "provenance": [],
      "toc_visible": true
    },
    "kernelspec": {
      "display_name": "Python 3",
      "name": "python3"
    },
    "language_info": {
      "name": "python"
    },
    "widgets": {
      "application/vnd.jupyter.widget-state+json": {
        "0ae9b5228a1f438cbefeedd02e10141e": {
          "model_module": "@jupyter-widgets/base",
          "model_module_version": "1.2.0",
          "model_name": "LayoutModel",
          "state": {
            "_model_module": "@jupyter-widgets/base",
            "_model_module_version": "1.2.0",
            "_model_name": "LayoutModel",
            "_view_count": null,
            "_view_module": "@jupyter-widgets/base",
            "_view_module_version": "1.2.0",
            "_view_name": "LayoutView",
            "align_content": null,
            "align_items": null,
            "align_self": null,
            "border": null,
            "bottom": null,
            "display": null,
            "flex": null,
            "flex_flow": null,
            "grid_area": null,
            "grid_auto_columns": null,
            "grid_auto_flow": null,
            "grid_auto_rows": null,
            "grid_column": null,
            "grid_gap": null,
            "grid_row": null,
            "grid_template_areas": null,
            "grid_template_columns": null,
            "grid_template_rows": null,
            "height": null,
            "justify_content": null,
            "justify_items": null,
            "left": null,
            "margin": null,
            "max_height": null,
            "max_width": null,
            "min_height": null,
            "min_width": null,
            "object_fit": null,
            "object_position": null,
            "order": null,
            "overflow": null,
            "overflow_x": null,
            "overflow_y": null,
            "padding": null,
            "right": null,
            "top": null,
            "visibility": null,
            "width": null
          }
        },
        "1f7b03ada3bc472a974c9fc3479d6a58": {
          "model_module": "@jupyter-widgets/base",
          "model_module_version": "1.2.0",
          "model_name": "LayoutModel",
          "state": {
            "_model_module": "@jupyter-widgets/base",
            "_model_module_version": "1.2.0",
            "_model_name": "LayoutModel",
            "_view_count": null,
            "_view_module": "@jupyter-widgets/base",
            "_view_module_version": "1.2.0",
            "_view_name": "LayoutView",
            "align_content": null,
            "align_items": null,
            "align_self": null,
            "border": null,
            "bottom": null,
            "display": null,
            "flex": null,
            "flex_flow": null,
            "grid_area": null,
            "grid_auto_columns": null,
            "grid_auto_flow": null,
            "grid_auto_rows": null,
            "grid_column": null,
            "grid_gap": null,
            "grid_row": null,
            "grid_template_areas": null,
            "grid_template_columns": null,
            "grid_template_rows": null,
            "height": null,
            "justify_content": null,
            "justify_items": null,
            "left": null,
            "margin": null,
            "max_height": null,
            "max_width": null,
            "min_height": null,
            "min_width": null,
            "object_fit": null,
            "object_position": null,
            "order": null,
            "overflow": null,
            "overflow_x": null,
            "overflow_y": null,
            "padding": null,
            "right": null,
            "top": null,
            "visibility": null,
            "width": null
          }
        },
        "226e18e9568a48288aae359f315562f5": {
          "model_module": "@jupyter-widgets/controls",
          "model_module_version": "1.5.0",
          "model_name": "DescriptionStyleModel",
          "state": {
            "_model_module": "@jupyter-widgets/controls",
            "_model_module_version": "1.5.0",
            "_model_name": "DescriptionStyleModel",
            "_view_count": null,
            "_view_module": "@jupyter-widgets/base",
            "_view_module_version": "1.2.0",
            "_view_name": "StyleView",
            "description_width": ""
          }
        },
        "30d8cd7833614743b1b10238b3b89fba": {
          "model_module": "@jupyter-widgets/controls",
          "model_module_version": "1.5.0",
          "model_name": "DescriptionStyleModel",
          "state": {
            "_model_module": "@jupyter-widgets/controls",
            "_model_module_version": "1.5.0",
            "_model_name": "DescriptionStyleModel",
            "_view_count": null,
            "_view_module": "@jupyter-widgets/base",
            "_view_module_version": "1.2.0",
            "_view_name": "StyleView",
            "description_width": ""
          }
        },
        "3297b84eb1cb41619c29df5ce424ff01": {
          "model_module": "@jupyter-widgets/base",
          "model_module_version": "1.2.0",
          "model_name": "LayoutModel",
          "state": {
            "_model_module": "@jupyter-widgets/base",
            "_model_module_version": "1.2.0",
            "_model_name": "LayoutModel",
            "_view_count": null,
            "_view_module": "@jupyter-widgets/base",
            "_view_module_version": "1.2.0",
            "_view_name": "LayoutView",
            "align_content": null,
            "align_items": null,
            "align_self": null,
            "border": null,
            "bottom": null,
            "display": null,
            "flex": null,
            "flex_flow": null,
            "grid_area": null,
            "grid_auto_columns": null,
            "grid_auto_flow": null,
            "grid_auto_rows": null,
            "grid_column": null,
            "grid_gap": null,
            "grid_row": null,
            "grid_template_areas": null,
            "grid_template_columns": null,
            "grid_template_rows": null,
            "height": null,
            "justify_content": null,
            "justify_items": null,
            "left": null,
            "margin": null,
            "max_height": null,
            "max_width": null,
            "min_height": null,
            "min_width": null,
            "object_fit": null,
            "object_position": null,
            "order": null,
            "overflow": null,
            "overflow_x": null,
            "overflow_y": null,
            "padding": null,
            "right": null,
            "top": null,
            "visibility": null,
            "width": null
          }
        },
        "45b5805541da4ad18e5a90e873c3c88d": {
          "model_module": "@jupyter-widgets/controls",
          "model_module_version": "1.5.0",
          "model_name": "HTMLModel",
          "state": {
            "_dom_classes": [],
            "_model_module": "@jupyter-widgets/controls",
            "_model_module_version": "1.5.0",
            "_model_name": "HTMLModel",
            "_view_count": null,
            "_view_module": "@jupyter-widgets/controls",
            "_view_module_version": "1.5.0",
            "_view_name": "HTMLView",
            "description": "",
            "description_tooltip": null,
            "layout": "IPY_MODEL_afeb40674e28431cba3c3b642c0bee63",
            "placeholder": "​",
            "style": "IPY_MODEL_226e18e9568a48288aae359f315562f5",
            "value": "model.safetensors: 100%"
          }
        },
        "45d44a27d308463dbb723130bed6a297": {
          "model_module": "@jupyter-widgets/controls",
          "model_module_version": "1.5.0",
          "model_name": "ProgressStyleModel",
          "state": {
            "_model_module": "@jupyter-widgets/controls",
            "_model_module_version": "1.5.0",
            "_model_name": "ProgressStyleModel",
            "_view_count": null,
            "_view_module": "@jupyter-widgets/base",
            "_view_module_version": "1.2.0",
            "_view_name": "StyleView",
            "bar_color": null,
            "description_width": ""
          }
        },
        "4949ff1539ec4a3eb20cae29a35c49d6": {
          "model_module": "@jupyter-widgets/base",
          "model_module_version": "1.2.0",
          "model_name": "LayoutModel",
          "state": {
            "_model_module": "@jupyter-widgets/base",
            "_model_module_version": "1.2.0",
            "_model_name": "LayoutModel",
            "_view_count": null,
            "_view_module": "@jupyter-widgets/base",
            "_view_module_version": "1.2.0",
            "_view_name": "LayoutView",
            "align_content": null,
            "align_items": null,
            "align_self": null,
            "border": null,
            "bottom": null,
            "display": null,
            "flex": null,
            "flex_flow": null,
            "grid_area": null,
            "grid_auto_columns": null,
            "grid_auto_flow": null,
            "grid_auto_rows": null,
            "grid_column": null,
            "grid_gap": null,
            "grid_row": null,
            "grid_template_areas": null,
            "grid_template_columns": null,
            "grid_template_rows": null,
            "height": null,
            "justify_content": null,
            "justify_items": null,
            "left": null,
            "margin": null,
            "max_height": null,
            "max_width": null,
            "min_height": null,
            "min_width": null,
            "object_fit": null,
            "object_position": null,
            "order": null,
            "overflow": null,
            "overflow_x": null,
            "overflow_y": null,
            "padding": null,
            "right": null,
            "top": null,
            "visibility": null,
            "width": null
          }
        },
        "4b7377be091d4d549ce057fa1436a2ac": {
          "model_module": "@jupyter-widgets/base",
          "model_module_version": "1.2.0",
          "model_name": "LayoutModel",
          "state": {
            "_model_module": "@jupyter-widgets/base",
            "_model_module_version": "1.2.0",
            "_model_name": "LayoutModel",
            "_view_count": null,
            "_view_module": "@jupyter-widgets/base",
            "_view_module_version": "1.2.0",
            "_view_name": "LayoutView",
            "align_content": null,
            "align_items": null,
            "align_self": null,
            "border": null,
            "bottom": null,
            "display": null,
            "flex": null,
            "flex_flow": null,
            "grid_area": null,
            "grid_auto_columns": null,
            "grid_auto_flow": null,
            "grid_auto_rows": null,
            "grid_column": null,
            "grid_gap": null,
            "grid_row": null,
            "grid_template_areas": null,
            "grid_template_columns": null,
            "grid_template_rows": null,
            "height": null,
            "justify_content": null,
            "justify_items": null,
            "left": null,
            "margin": null,
            "max_height": null,
            "max_width": null,
            "min_height": null,
            "min_width": null,
            "object_fit": null,
            "object_position": null,
            "order": null,
            "overflow": null,
            "overflow_x": null,
            "overflow_y": null,
            "padding": null,
            "right": null,
            "top": null,
            "visibility": null,
            "width": null
          }
        },
        "65daf022599d4de49b581cf0a5712055": {
          "model_module": "@jupyter-widgets/base",
          "model_module_version": "1.2.0",
          "model_name": "LayoutModel",
          "state": {
            "_model_module": "@jupyter-widgets/base",
            "_model_module_version": "1.2.0",
            "_model_name": "LayoutModel",
            "_view_count": null,
            "_view_module": "@jupyter-widgets/base",
            "_view_module_version": "1.2.0",
            "_view_name": "LayoutView",
            "align_content": null,
            "align_items": null,
            "align_self": null,
            "border": null,
            "bottom": null,
            "display": null,
            "flex": null,
            "flex_flow": null,
            "grid_area": null,
            "grid_auto_columns": null,
            "grid_auto_flow": null,
            "grid_auto_rows": null,
            "grid_column": null,
            "grid_gap": null,
            "grid_row": null,
            "grid_template_areas": null,
            "grid_template_columns": null,
            "grid_template_rows": null,
            "height": null,
            "justify_content": null,
            "justify_items": null,
            "left": null,
            "margin": null,
            "max_height": null,
            "max_width": null,
            "min_height": null,
            "min_width": null,
            "object_fit": null,
            "object_position": null,
            "order": null,
            "overflow": null,
            "overflow_x": null,
            "overflow_y": null,
            "padding": null,
            "right": null,
            "top": null,
            "visibility": null,
            "width": null
          }
        },
        "6643c736513648eea2d9ea10021cc955": {
          "model_module": "@jupyter-widgets/base",
          "model_module_version": "1.2.0",
          "model_name": "LayoutModel",
          "state": {
            "_model_module": "@jupyter-widgets/base",
            "_model_module_version": "1.2.0",
            "_model_name": "LayoutModel",
            "_view_count": null,
            "_view_module": "@jupyter-widgets/base",
            "_view_module_version": "1.2.0",
            "_view_name": "LayoutView",
            "align_content": null,
            "align_items": null,
            "align_self": null,
            "border": null,
            "bottom": null,
            "display": null,
            "flex": null,
            "flex_flow": null,
            "grid_area": null,
            "grid_auto_columns": null,
            "grid_auto_flow": null,
            "grid_auto_rows": null,
            "grid_column": null,
            "grid_gap": null,
            "grid_row": null,
            "grid_template_areas": null,
            "grid_template_columns": null,
            "grid_template_rows": null,
            "height": null,
            "justify_content": null,
            "justify_items": null,
            "left": null,
            "margin": null,
            "max_height": null,
            "max_width": null,
            "min_height": null,
            "min_width": null,
            "object_fit": null,
            "object_position": null,
            "order": null,
            "overflow": null,
            "overflow_x": null,
            "overflow_y": null,
            "padding": null,
            "right": null,
            "top": null,
            "visibility": null,
            "width": null
          }
        },
        "696ee01ddc114b6fb379eb71bb9c01d6": {
          "model_module": "@jupyter-widgets/controls",
          "model_module_version": "1.5.0",
          "model_name": "HBoxModel",
          "state": {
            "_dom_classes": [],
            "_model_module": "@jupyter-widgets/controls",
            "_model_module_version": "1.5.0",
            "_model_name": "HBoxModel",
            "_view_count": null,
            "_view_module": "@jupyter-widgets/controls",
            "_view_module_version": "1.5.0",
            "_view_name": "HBoxView",
            "box_style": "",
            "children": [
              "IPY_MODEL_45b5805541da4ad18e5a90e873c3c88d",
              "IPY_MODEL_efd4b175bcd24d3ebecf59cf41ee0582",
              "IPY_MODEL_c860a1e91ee84d0ca275a75faa0e4bcc"
            ],
            "layout": "IPY_MODEL_4b7377be091d4d549ce057fa1436a2ac"
          }
        },
        "76d0101ca11943e59be3423f1fcc8eb2": {
          "model_module": "@jupyter-widgets/base",
          "model_module_version": "1.2.0",
          "model_name": "LayoutModel",
          "state": {
            "_model_module": "@jupyter-widgets/base",
            "_model_module_version": "1.2.0",
            "_model_name": "LayoutModel",
            "_view_count": null,
            "_view_module": "@jupyter-widgets/base",
            "_view_module_version": "1.2.0",
            "_view_name": "LayoutView",
            "align_content": null,
            "align_items": null,
            "align_self": null,
            "border": null,
            "bottom": null,
            "display": null,
            "flex": null,
            "flex_flow": null,
            "grid_area": null,
            "grid_auto_columns": null,
            "grid_auto_flow": null,
            "grid_auto_rows": null,
            "grid_column": null,
            "grid_gap": null,
            "grid_row": null,
            "grid_template_areas": null,
            "grid_template_columns": null,
            "grid_template_rows": null,
            "height": null,
            "justify_content": null,
            "justify_items": null,
            "left": null,
            "margin": null,
            "max_height": null,
            "max_width": null,
            "min_height": null,
            "min_width": null,
            "object_fit": null,
            "object_position": null,
            "order": null,
            "overflow": null,
            "overflow_x": null,
            "overflow_y": null,
            "padding": null,
            "right": null,
            "top": null,
            "visibility": null,
            "width": null
          }
        },
        "799482b79c0041c8852cc566ce2a3386": {
          "model_module": "@jupyter-widgets/controls",
          "model_module_version": "1.5.0",
          "model_name": "HTMLModel",
          "state": {
            "_dom_classes": [],
            "_model_module": "@jupyter-widgets/controls",
            "_model_module_version": "1.5.0",
            "_model_name": "HTMLModel",
            "_view_count": null,
            "_view_module": "@jupyter-widgets/controls",
            "_view_module_version": "1.5.0",
            "_view_name": "HTMLView",
            "description": "",
            "description_tooltip": null,
            "layout": "IPY_MODEL_0ae9b5228a1f438cbefeedd02e10141e",
            "placeholder": "​",
            "style": "IPY_MODEL_c72d5a82e4dd49b2be74e8d541b53b6d",
            "value": " 2.24M/2.24M [00:00&lt;00:00, 13.5MB/s]"
          }
        },
        "8d0cbdba48354761a90247bd3f4a5dff": {
          "model_module": "@jupyter-widgets/base",
          "model_module_version": "1.2.0",
          "model_name": "LayoutModel",
          "state": {
            "_model_module": "@jupyter-widgets/base",
            "_model_module_version": "1.2.0",
            "_model_name": "LayoutModel",
            "_view_count": null,
            "_view_module": "@jupyter-widgets/base",
            "_view_module_version": "1.2.0",
            "_view_name": "LayoutView",
            "align_content": null,
            "align_items": null,
            "align_self": null,
            "border": null,
            "bottom": null,
            "display": null,
            "flex": null,
            "flex_flow": null,
            "grid_area": null,
            "grid_auto_columns": null,
            "grid_auto_flow": null,
            "grid_auto_rows": null,
            "grid_column": null,
            "grid_gap": null,
            "grid_row": null,
            "grid_template_areas": null,
            "grid_template_columns": null,
            "grid_template_rows": null,
            "height": null,
            "justify_content": null,
            "justify_items": null,
            "left": null,
            "margin": null,
            "max_height": null,
            "max_width": null,
            "min_height": null,
            "min_width": null,
            "object_fit": null,
            "object_position": null,
            "order": null,
            "overflow": null,
            "overflow_x": null,
            "overflow_y": null,
            "padding": null,
            "right": null,
            "top": null,
            "visibility": null,
            "width": null
          }
        },
        "8e1a05a313c348949ee7aa7839129e9d": {
          "model_module": "@jupyter-widgets/controls",
          "model_module_version": "1.5.0",
          "model_name": "DescriptionStyleModel",
          "state": {
            "_model_module": "@jupyter-widgets/controls",
            "_model_module_version": "1.5.0",
            "_model_name": "DescriptionStyleModel",
            "_view_count": null,
            "_view_module": "@jupyter-widgets/base",
            "_view_module_version": "1.2.0",
            "_view_name": "StyleView",
            "description_width": ""
          }
        },
        "9041f3408acb45269d75349864746a61": {
          "model_module": "@jupyter-widgets/controls",
          "model_module_version": "1.5.0",
          "model_name": "HBoxModel",
          "state": {
            "_dom_classes": [],
            "_model_module": "@jupyter-widgets/controls",
            "_model_module_version": "1.5.0",
            "_model_name": "HBoxModel",
            "_view_count": null,
            "_view_module": "@jupyter-widgets/controls",
            "_view_module_version": "1.5.0",
            "_view_name": "HBoxView",
            "box_style": "",
            "children": [
              "IPY_MODEL_b54c28178319406baca14f066a415ccf",
              "IPY_MODEL_a1bcc5b73abd4040af0ab286cf09429e",
              "IPY_MODEL_de202fe0376345f9b0268852723e4325"
            ],
            "layout": "IPY_MODEL_3297b84eb1cb41619c29df5ce424ff01"
          }
        },
        "92a1d40ec4b94a1b90b592f6720ccd4b": {
          "model_module": "@jupyter-widgets/controls",
          "model_module_version": "1.5.0",
          "model_name": "HBoxModel",
          "state": {
            "_dom_classes": [],
            "_model_module": "@jupyter-widgets/controls",
            "_model_module_version": "1.5.0",
            "_model_name": "HBoxModel",
            "_view_count": null,
            "_view_module": "@jupyter-widgets/controls",
            "_view_module_version": "1.5.0",
            "_view_name": "HBoxView",
            "box_style": "",
            "children": [
              "IPY_MODEL_9a64b07f3a60442cae123716aa0844a4",
              "IPY_MODEL_b4c43347589b49d99deff75d6c835216",
              "IPY_MODEL_799482b79c0041c8852cc566ce2a3386"
            ],
            "layout": "IPY_MODEL_65daf022599d4de49b581cf0a5712055"
          }
        },
        "9a64b07f3a60442cae123716aa0844a4": {
          "model_module": "@jupyter-widgets/controls",
          "model_module_version": "1.5.0",
          "model_name": "HTMLModel",
          "state": {
            "_dom_classes": [],
            "_model_module": "@jupyter-widgets/controls",
            "_model_module_version": "1.5.0",
            "_model_name": "HTMLModel",
            "_view_count": null,
            "_view_module": "@jupyter-widgets/controls",
            "_view_module_version": "1.5.0",
            "_view_name": "HTMLView",
            "description": "",
            "description_tooltip": null,
            "layout": "IPY_MODEL_cfe7ff64abff47b49153c442248bde19",
            "placeholder": "​",
            "style": "IPY_MODEL_e1e15d5a4527420e8628b64bf03290fd",
            "value": "vocab.txt: 100%"
          }
        },
        "a042a391dd364803910bf9a03a28159a": {
          "model_module": "@jupyter-widgets/controls",
          "model_module_version": "1.5.0",
          "model_name": "ProgressStyleModel",
          "state": {
            "_model_module": "@jupyter-widgets/controls",
            "_model_module_version": "1.5.0",
            "_model_name": "ProgressStyleModel",
            "_view_count": null,
            "_view_module": "@jupyter-widgets/base",
            "_view_module_version": "1.2.0",
            "_view_name": "StyleView",
            "bar_color": null,
            "description_width": ""
          }
        },
        "a1bcc5b73abd4040af0ab286cf09429e": {
          "model_module": "@jupyter-widgets/controls",
          "model_module_version": "1.5.0",
          "model_name": "FloatProgressModel",
          "state": {
            "_dom_classes": [],
            "_model_module": "@jupyter-widgets/controls",
            "_model_module_version": "1.5.0",
            "_model_name": "FloatProgressModel",
            "_view_count": null,
            "_view_module": "@jupyter-widgets/controls",
            "_view_module_version": "1.5.0",
            "_view_name": "ProgressView",
            "bar_style": "success",
            "description": "",
            "description_tooltip": null,
            "layout": "IPY_MODEL_8d0cbdba48354761a90247bd3f4a5dff",
            "max": 491,
            "min": 0,
            "orientation": "horizontal",
            "style": "IPY_MODEL_b312964481ad4b31a3ba27080d398ed4",
            "value": 491
          }
        },
        "afeb40674e28431cba3c3b642c0bee63": {
          "model_module": "@jupyter-widgets/base",
          "model_module_version": "1.2.0",
          "model_name": "LayoutModel",
          "state": {
            "_model_module": "@jupyter-widgets/base",
            "_model_module_version": "1.2.0",
            "_model_name": "LayoutModel",
            "_view_count": null,
            "_view_module": "@jupyter-widgets/base",
            "_view_module_version": "1.2.0",
            "_view_name": "LayoutView",
            "align_content": null,
            "align_items": null,
            "align_self": null,
            "border": null,
            "bottom": null,
            "display": null,
            "flex": null,
            "flex_flow": null,
            "grid_area": null,
            "grid_auto_columns": null,
            "grid_auto_flow": null,
            "grid_auto_rows": null,
            "grid_column": null,
            "grid_gap": null,
            "grid_row": null,
            "grid_template_areas": null,
            "grid_template_columns": null,
            "grid_template_rows": null,
            "height": null,
            "justify_content": null,
            "justify_items": null,
            "left": null,
            "margin": null,
            "max_height": null,
            "max_width": null,
            "min_height": null,
            "min_width": null,
            "object_fit": null,
            "object_position": null,
            "order": null,
            "overflow": null,
            "overflow_x": null,
            "overflow_y": null,
            "padding": null,
            "right": null,
            "top": null,
            "visibility": null,
            "width": null
          }
        },
        "b312964481ad4b31a3ba27080d398ed4": {
          "model_module": "@jupyter-widgets/controls",
          "model_module_version": "1.5.0",
          "model_name": "ProgressStyleModel",
          "state": {
            "_model_module": "@jupyter-widgets/controls",
            "_model_module_version": "1.5.0",
            "_model_name": "ProgressStyleModel",
            "_view_count": null,
            "_view_module": "@jupyter-widgets/base",
            "_view_module_version": "1.2.0",
            "_view_name": "StyleView",
            "bar_color": null,
            "description_width": ""
          }
        },
        "b4c43347589b49d99deff75d6c835216": {
          "model_module": "@jupyter-widgets/controls",
          "model_module_version": "1.5.0",
          "model_name": "FloatProgressModel",
          "state": {
            "_dom_classes": [],
            "_model_module": "@jupyter-widgets/controls",
            "_model_module_version": "1.5.0",
            "_model_name": "FloatProgressModel",
            "_view_count": null,
            "_view_module": "@jupyter-widgets/controls",
            "_view_module_version": "1.5.0",
            "_view_name": "ProgressView",
            "bar_style": "success",
            "description": "",
            "description_tooltip": null,
            "layout": "IPY_MODEL_1f7b03ada3bc472a974c9fc3479d6a58",
            "max": 2237676,
            "min": 0,
            "orientation": "horizontal",
            "style": "IPY_MODEL_a042a391dd364803910bf9a03a28159a",
            "value": 2237676
          }
        },
        "b54c28178319406baca14f066a415ccf": {
          "model_module": "@jupyter-widgets/controls",
          "model_module_version": "1.5.0",
          "model_name": "HTMLModel",
          "state": {
            "_dom_classes": [],
            "_model_module": "@jupyter-widgets/controls",
            "_model_module_version": "1.5.0",
            "_model_name": "HTMLModel",
            "_view_count": null,
            "_view_module": "@jupyter-widgets/controls",
            "_view_module_version": "1.5.0",
            "_view_name": "HTMLView",
            "description": "",
            "description_tooltip": null,
            "layout": "IPY_MODEL_d8c468f4aa9c4e83a812cb173aea72b9",
            "placeholder": "​",
            "style": "IPY_MODEL_30d8cd7833614743b1b10238b3b89fba",
            "value": "config.json: 100%"
          }
        },
        "c72d5a82e4dd49b2be74e8d541b53b6d": {
          "model_module": "@jupyter-widgets/controls",
          "model_module_version": "1.5.0",
          "model_name": "DescriptionStyleModel",
          "state": {
            "_model_module": "@jupyter-widgets/controls",
            "_model_module_version": "1.5.0",
            "_model_name": "DescriptionStyleModel",
            "_view_count": null,
            "_view_module": "@jupyter-widgets/base",
            "_view_module_version": "1.2.0",
            "_view_name": "StyleView",
            "description_width": ""
          }
        },
        "c860a1e91ee84d0ca275a75faa0e4bcc": {
          "model_module": "@jupyter-widgets/controls",
          "model_module_version": "1.5.0",
          "model_name": "HTMLModel",
          "state": {
            "_dom_classes": [],
            "_model_module": "@jupyter-widgets/controls",
            "_model_module_version": "1.5.0",
            "_model_name": "HTMLModel",
            "_view_count": null,
            "_view_module": "@jupyter-widgets/controls",
            "_view_module_version": "1.5.0",
            "_view_name": "HTMLView",
            "description": "",
            "description_tooltip": null,
            "layout": "IPY_MODEL_4949ff1539ec4a3eb20cae29a35c49d6",
            "placeholder": "​",
            "style": "IPY_MODEL_e247ef244e8d48fd9ae0410fd2165fca",
            "value": " 660M/660M [00:02&lt;00:00, 351MB/s]"
          }
        },
        "cfe7ff64abff47b49153c442248bde19": {
          "model_module": "@jupyter-widgets/base",
          "model_module_version": "1.2.0",
          "model_name": "LayoutModel",
          "state": {
            "_model_module": "@jupyter-widgets/base",
            "_model_module_version": "1.2.0",
            "_model_name": "LayoutModel",
            "_view_count": null,
            "_view_module": "@jupyter-widgets/base",
            "_view_module_version": "1.2.0",
            "_view_name": "LayoutView",
            "align_content": null,
            "align_items": null,
            "align_self": null,
            "border": null,
            "bottom": null,
            "display": null,
            "flex": null,
            "flex_flow": null,
            "grid_area": null,
            "grid_auto_columns": null,
            "grid_auto_flow": null,
            "grid_auto_rows": null,
            "grid_column": null,
            "grid_gap": null,
            "grid_row": null,
            "grid_template_areas": null,
            "grid_template_columns": null,
            "grid_template_rows": null,
            "height": null,
            "justify_content": null,
            "justify_items": null,
            "left": null,
            "margin": null,
            "max_height": null,
            "max_width": null,
            "min_height": null,
            "min_width": null,
            "object_fit": null,
            "object_position": null,
            "order": null,
            "overflow": null,
            "overflow_x": null,
            "overflow_y": null,
            "padding": null,
            "right": null,
            "top": null,
            "visibility": null,
            "width": null
          }
        },
        "d8c468f4aa9c4e83a812cb173aea72b9": {
          "model_module": "@jupyter-widgets/base",
          "model_module_version": "1.2.0",
          "model_name": "LayoutModel",
          "state": {
            "_model_module": "@jupyter-widgets/base",
            "_model_module_version": "1.2.0",
            "_model_name": "LayoutModel",
            "_view_count": null,
            "_view_module": "@jupyter-widgets/base",
            "_view_module_version": "1.2.0",
            "_view_name": "LayoutView",
            "align_content": null,
            "align_items": null,
            "align_self": null,
            "border": null,
            "bottom": null,
            "display": null,
            "flex": null,
            "flex_flow": null,
            "grid_area": null,
            "grid_auto_columns": null,
            "grid_auto_flow": null,
            "grid_auto_rows": null,
            "grid_column": null,
            "grid_gap": null,
            "grid_row": null,
            "grid_template_areas": null,
            "grid_template_columns": null,
            "grid_template_rows": null,
            "height": null,
            "justify_content": null,
            "justify_items": null,
            "left": null,
            "margin": null,
            "max_height": null,
            "max_width": null,
            "min_height": null,
            "min_width": null,
            "object_fit": null,
            "object_position": null,
            "order": null,
            "overflow": null,
            "overflow_x": null,
            "overflow_y": null,
            "padding": null,
            "right": null,
            "top": null,
            "visibility": null,
            "width": null
          }
        },
        "de202fe0376345f9b0268852723e4325": {
          "model_module": "@jupyter-widgets/controls",
          "model_module_version": "1.5.0",
          "model_name": "HTMLModel",
          "state": {
            "_dom_classes": [],
            "_model_module": "@jupyter-widgets/controls",
            "_model_module_version": "1.5.0",
            "_model_name": "HTMLModel",
            "_view_count": null,
            "_view_module": "@jupyter-widgets/controls",
            "_view_module_version": "1.5.0",
            "_view_name": "HTMLView",
            "description": "",
            "description_tooltip": null,
            "layout": "IPY_MODEL_6643c736513648eea2d9ea10021cc955",
            "placeholder": "​",
            "style": "IPY_MODEL_8e1a05a313c348949ee7aa7839129e9d",
            "value": " 491/491 [00:00&lt;00:00, 35.9kB/s]"
          }
        },
        "e1e15d5a4527420e8628b64bf03290fd": {
          "model_module": "@jupyter-widgets/controls",
          "model_module_version": "1.5.0",
          "model_name": "DescriptionStyleModel",
          "state": {
            "_model_module": "@jupyter-widgets/controls",
            "_model_module_version": "1.5.0",
            "_model_name": "DescriptionStyleModel",
            "_view_count": null,
            "_view_module": "@jupyter-widgets/base",
            "_view_module_version": "1.2.0",
            "_view_name": "StyleView",
            "description_width": ""
          }
        },
        "e247ef244e8d48fd9ae0410fd2165fca": {
          "model_module": "@jupyter-widgets/controls",
          "model_module_version": "1.5.0",
          "model_name": "DescriptionStyleModel",
          "state": {
            "_model_module": "@jupyter-widgets/controls",
            "_model_module_version": "1.5.0",
            "_model_name": "DescriptionStyleModel",
            "_view_count": null,
            "_view_module": "@jupyter-widgets/base",
            "_view_module_version": "1.2.0",
            "_view_name": "StyleView",
            "description_width": ""
          }
        },
        "efd4b175bcd24d3ebecf59cf41ee0582": {
          "model_module": "@jupyter-widgets/controls",
          "model_module_version": "1.5.0",
          "model_name": "FloatProgressModel",
          "state": {
            "_dom_classes": [],
            "_model_module": "@jupyter-widgets/controls",
            "_model_module_version": "1.5.0",
            "_model_name": "FloatProgressModel",
            "_view_count": null,
            "_view_module": "@jupyter-widgets/controls",
            "_view_module_version": "1.5.0",
            "_view_name": "ProgressView",
            "bar_style": "success",
            "description": "",
            "description_tooltip": null,
            "layout": "IPY_MODEL_76d0101ca11943e59be3423f1fcc8eb2",
            "max": 660393036,
            "min": 0,
            "orientation": "horizontal",
            "style": "IPY_MODEL_45d44a27d308463dbb723130bed6a297",
            "value": 660393036
          }
        }
      }
    }
  },
  "nbformat": 4,
  "nbformat_minor": 0
}
